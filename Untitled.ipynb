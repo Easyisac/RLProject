{
 "cells": [
  {
   "cell_type": "code",
   "execution_count": 1,
   "id": "ab3a1fa9",
   "metadata": {},
   "outputs": [],
   "source": [
    "import pandas as pd\n",
    "import os\n",
    "import sys"
   ]
  },
  {
   "cell_type": "code",
   "execution_count": 2,
   "id": "7f7fd618",
   "metadata": {},
   "outputs": [
    {
     "name": "stdout",
     "output_type": "stream",
     "text": [
      "144.26668666566673\n"
     ]
    }
   ],
   "source": [
    "file = 'outputs/fixed/fixed100000_conn0_run1.csv'\n",
    "df = pd.read_csv(file)\n",
    "time = df['system_total_waiting_time'].mean()\n",
    "print(time)"
   ]
  },
  {
   "cell_type": "code",
   "execution_count": 3,
   "id": "a1418e80",
   "metadata": {},
   "outputs": [
    {
     "name": "stdout",
     "output_type": "stream",
     "text": [
      "66.50522473876306\n"
     ]
    }
   ],
   "source": [
    "file = 'outputs/qlearn/ql_conn0_run1.csv'\n",
    "df = pd.read_csv(file)\n",
    "time = df['system_total_waiting_time'].mean()\n",
    "print(time)"
   ]
  },
  {
   "cell_type": "code",
   "execution_count": 4,
   "id": "a3857282",
   "metadata": {},
   "outputs": [
    {
     "name": "stdout",
     "output_type": "stream",
     "text": [
      "105.63523647635236\n"
     ]
    }
   ],
   "source": [
    "file = 'outputs/qlearn/ql20_conn0_run1.csv'\n",
    "df = pd.read_csv(file)\n",
    "time = df['system_total_waiting_time'].mean()\n",
    "print(time)"
   ]
  },
  {
   "cell_type": "code",
   "execution_count": 5,
   "id": "d37bdfdd",
   "metadata": {},
   "outputs": [
    {
     "name": "stdout",
     "output_type": "stream",
     "text": [
      "77.76066196690165\n"
     ]
    }
   ],
   "source": [
    "file = 'outputs/sarsa/sarsa_conn0_run1.csv'\n",
    "df = pd.read_csv(file)\n",
    "time = df['system_total_waiting_time'].mean()\n",
    "print(time)"
   ]
  },
  {
   "cell_type": "code",
   "execution_count": 6,
   "id": "063e45d6",
   "metadata": {},
   "outputs": [
    {
     "name": "stdout",
     "output_type": "stream",
     "text": [
      "60.69053094690531\n"
     ]
    }
   ],
   "source": [
    "file = 'outputs/dqnlib/test_conn0_run1.csv'\n",
    "df = pd.read_csv(file)\n",
    "time = df['system_total_waiting_time'].mean()\n",
    "print(time)"
   ]
  },
  {
   "cell_type": "code",
   "execution_count": 7,
   "id": "455fa754",
   "metadata": {},
   "outputs": [
    {
     "name": "stdout",
     "output_type": "stream",
     "text": [
      "3.413504943142334\n"
     ]
    }
   ],
   "source": [
    "file = 'outputs/fixed/fixed100000_conn0_run1.csv'\n",
    "df = pd.read_csv(file)\n",
    "time = df['system_mean_speed'].mean()\n",
    "print(time)"
   ]
  },
  {
   "cell_type": "code",
   "execution_count": 8,
   "id": "795f5564",
   "metadata": {},
   "outputs": [
    {
     "name": "stdout",
     "output_type": "stream",
     "text": [
      "2.4485827137705507\n"
     ]
    }
   ],
   "source": [
    "file = 'outputs/qlearn/ql_conn0_run1.csv'\n",
    "df = pd.read_csv(file)\n",
    "time = df['system_mean_speed'].mean()\n",
    "print(time)"
   ]
  },
  {
   "cell_type": "code",
   "execution_count": 9,
   "id": "fa043008",
   "metadata": {},
   "outputs": [
    {
     "name": "stdout",
     "output_type": "stream",
     "text": [
      "2.1817973514548687\n"
     ]
    }
   ],
   "source": [
    "file = 'outputs/qlearn/ql20_conn0_run1.csv'\n",
    "df = pd.read_csv(file)\n",
    "time = df['system_mean_speed'].mean()\n",
    "print(time)"
   ]
  },
  {
   "cell_type": "code",
   "execution_count": 10,
   "id": "2bc17517",
   "metadata": {},
   "outputs": [
    {
     "name": "stdout",
     "output_type": "stream",
     "text": [
      "2.8125991696906123\n"
     ]
    }
   ],
   "source": [
    "file = 'outputs/sarsa/sarsa_conn0_run1.csv'\n",
    "df = pd.read_csv(file)\n",
    "time = df['system_mean_speed'].mean()\n",
    "print(time)"
   ]
  },
  {
   "cell_type": "code",
   "execution_count": 11,
   "id": "f7d8bf5b",
   "metadata": {},
   "outputs": [
    {
     "name": "stdout",
     "output_type": "stream",
     "text": [
      "3.2055717258330505\n"
     ]
    }
   ],
   "source": [
    "file = 'outputs/dqnlib/test_conn0_run1.csv'\n",
    "df = pd.read_csv(file)\n",
    "time = df['system_mean_speed'].mean()\n",
    "print(time)"
   ]
  },
  {
   "cell_type": "code",
   "execution_count": null,
   "id": "d0a64cc5",
   "metadata": {},
   "outputs": [],
   "source": []
  }
 ],
 "metadata": {
  "kernelspec": {
   "display_name": "Python 3 (ipykernel)",
   "language": "python",
   "name": "python3"
  },
  "language_info": {
   "codemirror_mode": {
    "name": "ipython",
    "version": 3
   },
   "file_extension": ".py",
   "mimetype": "text/x-python",
   "name": "python",
   "nbconvert_exporter": "python",
   "pygments_lexer": "ipython3",
   "version": "3.9.10"
  }
 },
 "nbformat": 4,
 "nbformat_minor": 5
}
