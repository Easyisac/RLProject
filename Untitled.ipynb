{
 "cells": [
  {
   "cell_type": "code",
   "execution_count": 2,
   "id": "ab3a1fa9",
   "metadata": {},
   "outputs": [],
   "source": [
    "import pandas as pd\n",
    "import os\n",
    "import sys\n",
    "import seaborn as sns\n",
    "from matplotlib import pyplot as plt"
   ]
  },
  {
   "cell_type": "code",
   "execution_count": 3,
   "id": "7f7fd618",
   "metadata": {},
   "outputs": [
    {
     "name": "stdout",
     "output_type": "stream",
     "text": [
      "144.26668666566673\n",
      "3.413504943142334\n"
     ]
    }
   ],
   "source": [
    "file = 'outputs/fixed/fixed_conn0_run1.csv'\n",
    "df = pd.read_csv(file)\n",
    "time = df['system_total_waiting_time'].mean()\n",
    "print(time)\n",
    "time = df['system_mean_speed'].mean()\n",
    "print(time)"
   ]
  },
  {
   "cell_type": "code",
   "execution_count": 4,
   "id": "a1418e80",
   "metadata": {},
   "outputs": [
    {
     "name": "stdout",
     "output_type": "stream",
     "text": [
      "66.50522473876306\n",
      "2.4485827137705507\n"
     ]
    }
   ],
   "source": [
    "file = 'outputs/qlearn/ql_conn0_run1.csv'\n",
    "df = pd.read_csv(file)\n",
    "time = df['system_total_waiting_time'].mean()\n",
    "print(time)\n",
    "time = df['system_mean_speed'].mean()\n",
    "print(time)"
   ]
  },
  {
   "cell_type": "code",
   "execution_count": 5,
   "id": "d37bdfdd",
   "metadata": {},
   "outputs": [
    {
     "name": "stdout",
     "output_type": "stream",
     "text": [
      "77.76066196690165\n",
      "2.8125991696906123\n"
     ]
    }
   ],
   "source": [
    "file = 'outputs/sarsa/sarsa_conn0_run1.csv'\n",
    "df = pd.read_csv(file)\n",
    "time = df['system_total_waiting_time'].mean()\n",
    "print(time)\n",
    "time = df['system_mean_speed'].mean()\n",
    "print(time)"
   ]
  },
  {
   "cell_type": "code",
   "execution_count": 6,
   "id": "063e45d6",
   "metadata": {},
   "outputs": [
    {
     "name": "stdout",
     "output_type": "stream",
     "text": [
      "57.25313734313284\n",
      "3.575042896237668\n"
     ]
    }
   ],
   "source": [
    "file = 'outputs/sarsaANN/sarsaANN_conn0_run1.csv'\n",
    "df = pd.read_csv(file)\n",
    "time = df['system_total_waiting_time'].mean()\n",
    "print(time)\n",
    "time = df['system_mean_speed'].mean()\n",
    "print(time)"
   ]
  },
  {
   "cell_type": "code",
   "execution_count": 7,
   "id": "d0a64cc5",
   "metadata": {},
   "outputs": [
    {
     "name": "stdout",
     "output_type": "stream",
     "text": [
      "180.95590220488975\n",
      "2.838421976622875\n"
     ]
    }
   ],
   "source": [
    "file = 'outputs/dqnlearn/dqn_conn0_run1.csv'\n",
    "df = pd.read_csv(file)\n",
    "time = df['system_total_waiting_time'].mean()\n",
    "print(time)\n",
    "time = df['system_mean_speed'].mean()\n",
    "print(time)"
   ]
  },
  {
   "cell_type": "code",
   "execution_count": 8,
   "id": "d00b30e4",
   "metadata": {},
   "outputs": [
    {
     "name": "stdout",
     "output_type": "stream",
     "text": [
      "1710.0064996750164\n",
      "1.720137090571661\n"
     ]
    }
   ],
   "source": [
    "file = 'outputs/fixed/fixed2_conn0_run1.csv'\n",
    "df = pd.read_csv(file)\n",
    "time = df['system_total_waiting_time'].mean()\n",
    "print(time)\n",
    "time = df['system_mean_speed'].mean()\n",
    "print(time)"
   ]
  },
  {
   "cell_type": "code",
   "execution_count": 9,
   "id": "2530c64d",
   "metadata": {},
   "outputs": [
    {
     "name": "stdout",
     "output_type": "stream",
     "text": [
      "10031.25213739313\n",
      "0.8060152746732983\n"
     ]
    }
   ],
   "source": [
    "file = 'outputs/qlearn/ql2_conn0_run1.csv'\n",
    "df = pd.read_csv(file)\n",
    "time = df['system_total_waiting_time'].mean()\n",
    "print(time)\n",
    "time = df['system_mean_speed'].mean()\n",
    "print(time)"
   ]
  },
  {
   "cell_type": "code",
   "execution_count": 10,
   "id": "721e0208",
   "metadata": {},
   "outputs": [
    {
     "name": "stdout",
     "output_type": "stream",
     "text": [
      "12742.250787460627\n",
      "0.7637294058651715\n"
     ]
    }
   ],
   "source": [
    "file = 'outputs/sarsa/sarsa2_conn0_run1.csv'\n",
    "df = pd.read_csv(file)\n",
    "time = df['system_total_waiting_time'].mean()\n",
    "print(time)\n",
    "time = df['system_mean_speed'].mean()\n",
    "print(time)"
   ]
  },
  {
   "cell_type": "code",
   "execution_count": 11,
   "id": "78ebb6df",
   "metadata": {},
   "outputs": [
    {
     "name": "stdout",
     "output_type": "stream",
     "text": [
      "865.9859007049647\n",
      "1.781905691045863\n"
     ]
    }
   ],
   "source": [
    "file = 'outputs/sarsaANN/sarsaANN2_conn0_run1.csv'\n",
    "df = pd.read_csv(file)\n",
    "time = df['system_total_waiting_time'].mean()\n",
    "print(time)\n",
    "time = df['system_mean_speed'].mean()\n",
    "print(time)"
   ]
  },
  {
   "cell_type": "code",
   "execution_count": 12,
   "id": "c027aec6",
   "metadata": {},
   "outputs": [
    {
     "name": "stdout",
     "output_type": "stream",
     "text": [
      "2541.211589420529\n",
      "1.2252636819396043\n"
     ]
    }
   ],
   "source": [
    "file = 'outputs/dqnlearn/dqn2_conn0_run1.csv'\n",
    "df = pd.read_csv(file)\n",
    "time = df['system_total_waiting_time'].mean()\n",
    "print(time)\n",
    "time = df['system_mean_speed'].mean()\n",
    "print(time)"
   ]
  },
  {
   "cell_type": "code",
   "execution_count": null,
   "id": "480a8b9a",
   "metadata": {},
   "outputs": [],
   "source": []
  }
 ],
 "metadata": {
  "kernelspec": {
   "display_name": "Python 3 (ipykernel)",
   "language": "python",
   "name": "python3"
  },
  "language_info": {
   "codemirror_mode": {
    "name": "ipython",
    "version": 3
   },
   "file_extension": ".py",
   "mimetype": "text/x-python",
   "name": "python",
   "nbconvert_exporter": "python",
   "pygments_lexer": "ipython3",
   "version": "3.9.10"
  }
 },
 "nbformat": 4,
 "nbformat_minor": 5
}
