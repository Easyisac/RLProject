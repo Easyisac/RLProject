{
 "cells": [
  {
   "cell_type": "code",
   "execution_count": 1,
   "id": "ab3a1fa9",
   "metadata": {},
   "outputs": [],
   "source": [
    "import pandas as pd\n",
    "import os\n",
    "import sys"
   ]
  },
  {
   "cell_type": "code",
   "execution_count": 2,
   "id": "7f7fd618",
   "metadata": {},
   "outputs": [
    {
     "name": "stdout",
     "output_type": "stream",
     "text": [
      "144.26668666566673\n",
      "3.413504943142334\n"
     ]
    }
   ],
   "source": [
    "file = 'outputs/fixed/fixed100000_conn0_run1.csv'\n",
    "df = pd.read_csv(file)\n",
    "time = df['system_total_waiting_time'].mean()\n",
    "print(time)\n",
    "time = df['system_mean_speed'].mean()\n",
    "print(time)"
   ]
  },
  {
   "cell_type": "code",
   "execution_count": 3,
   "id": "a1418e80",
   "metadata": {},
   "outputs": [
    {
     "name": "stdout",
     "output_type": "stream",
     "text": [
      "66.50522473876306\n",
      "2.4485827137705507\n"
     ]
    }
   ],
   "source": [
    "file = 'outputs/qlearn/ql_conn0_run1.csv'\n",
    "df = pd.read_csv(file)\n",
    "time = df['system_total_waiting_time'].mean()\n",
    "print(time)\n",
    "time = df['system_mean_speed'].mean()\n",
    "print(time)"
   ]
  },
  {
   "cell_type": "code",
   "execution_count": 4,
   "id": "d37bdfdd",
   "metadata": {},
   "outputs": [
    {
     "name": "stdout",
     "output_type": "stream",
     "text": [
      "77.76066196690165\n",
      "2.8125991696906123\n"
     ]
    }
   ],
   "source": [
    "file = 'outputs/sarsa/sarsa_conn0_run1.csv'\n",
    "df = pd.read_csv(file)\n",
    "time = df['system_total_waiting_time'].mean()\n",
    "print(time)\n",
    "time = df['system_mean_speed'].mean()\n",
    "print(time)"
   ]
  },
  {
   "cell_type": "code",
   "execution_count": 5,
   "id": "063e45d6",
   "metadata": {},
   "outputs": [
    {
     "name": "stdout",
     "output_type": "stream",
     "text": [
      "57.25313734313284\n",
      "3.575042896237668\n"
     ]
    }
   ],
   "source": [
    "file = 'outputs/sarsaANN/sarsaANN_conn0_run1.csv'\n",
    "df = pd.read_csv(file)\n",
    "time = df['system_total_waiting_time'].mean()\n",
    "print(time)\n",
    "time = df['system_mean_speed'].mean()\n",
    "print(time)"
   ]
  },
  {
   "cell_type": "code",
   "execution_count": 11,
   "id": "d0a64cc5",
   "metadata": {},
   "outputs": [
    {
     "name": "stdout",
     "output_type": "stream",
     "text": [
      "79.25891607226185\n",
      "2.883370765138423\n"
     ]
    }
   ],
   "source": [
    "file = 'outputs/dqnlearn/dqn_conn0_run1.csv'\n",
    "df = pd.read_csv(file)\n",
    "time = df['system_total_waiting_time'][5000:].mean()\n",
    "print(time)\n",
    "time = df['system_mean_speed'].mean()\n",
    "print(time)"
   ]
  },
  {
   "cell_type": "code",
   "execution_count": null,
   "id": "a42b620c",
   "metadata": {},
   "outputs": [],
   "source": []
  }
 ],
 "metadata": {
  "kernelspec": {
   "display_name": "Python 3 (ipykernel)",
   "language": "python",
   "name": "python3"
  },
  "language_info": {
   "codemirror_mode": {
    "name": "ipython",
    "version": 3
   },
   "file_extension": ".py",
   "mimetype": "text/x-python",
   "name": "python",
   "nbconvert_exporter": "python",
   "pygments_lexer": "ipython3",
   "version": "3.9.10"
  }
 },
 "nbformat": 4,
 "nbformat_minor": 5
}
